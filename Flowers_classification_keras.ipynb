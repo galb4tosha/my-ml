{
  "nbformat": 4,
  "nbformat_minor": 0,
  "metadata": {
    "colab": {
      "name": "Flowers_classification_keras.ipynb",
      "provenance": [],
      "collapsed_sections": [],
      "include_colab_link": true
    },
    "kernelspec": {
      "name": "python3",
      "display_name": "Python 3"
    },
    "accelerator": "GPU"
  },
  "cells": [
    {
      "cell_type": "markdown",
      "metadata": {
        "id": "view-in-github",
        "colab_type": "text"
      },
      "source": [
        "<a href=\"https://colab.research.google.com/github/galb4tosha/my-ml/blob/master/Flowers_classification_keras.ipynb\" target=\"_parent\"><img src=\"https://colab.research.google.com/assets/colab-badge.svg\" alt=\"Open In Colab\"/></a>"
      ]
    },
    {
      "cell_type": "code",
      "metadata": {
        "id": "H3HFolPHblJV",
        "colab_type": "code",
        "outputId": "bbac9bdb-6453-459c-cb60-f0ac6fa0d122",
        "colab": {
          "base_uri": "https://localhost:8080/",
          "height": 34
        }
      },
      "source": [
        "from google.colab import drive\n",
        "drive.mount('/gdrive', force_remount=True)"
      ],
      "execution_count": 0,
      "outputs": [
        {
          "output_type": "stream",
          "text": [
            "Mounted at /gdrive\n"
          ],
          "name": "stdout"
        }
      ]
    },
    {
      "cell_type": "code",
      "metadata": {
        "id": "0S1FE2yRbsRj",
        "colab_type": "code",
        "outputId": "52a2ad3a-e93b-42ac-9f35-600019755e77",
        "colab": {
          "base_uri": "https://localhost:8080/",
          "height": 119
        }
      },
      "source": [
        "from PIL import Image\n",
        "import numpy as np\n",
        "import pandas as pd\n",
        "from time import time\n",
        "import keras\n",
        "from keras.applications import MobileNetV2\n",
        "from keras.applications.inception_v3 import InceptionV3, preprocess_input\n",
        "from keras import applications\n",
        "from keras import optimizers\n",
        "from keras.models import Sequential, Model\n",
        "from keras.layers import Dropout, Flatten, Dense, GlobalAveragePooling2D\n",
        "from keras.optimizers import SGD, Adam, Adadelta\n",
        "from keras import backend as k \n",
        "from keras.callbacks import ModelCheckpoint, LearningRateScheduler, TensorBoard, EarlyStopping\n",
        "from keras.preprocessing import image\n",
        "from keras.preprocessing.image import ImageDataGenerator, array_to_img, img_to_array, load_img\n",
        "from keras.utils import np_utils\n",
        "from keras.regularizers import l2\n",
        "\n",
        "import random\n",
        "import gc\n",
        "!pip install Augmentor\n",
        "import cv2    \n",
        "import matplotlib.pyplot as plt\n",
        "import seaborn as sns\n",
        "import Augmentor"
      ],
      "execution_count": 0,
      "outputs": [
        {
          "output_type": "stream",
          "text": [
            "Requirement already satisfied: Augmentor in /usr/local/lib/python3.6/dist-packages (0.2.5)\n",
            "Requirement already satisfied: numpy>=1.11.0 in /usr/local/lib/python3.6/dist-packages (from Augmentor) (1.16.4)\n",
            "Requirement already satisfied: future>=0.16.0 in /usr/local/lib/python3.6/dist-packages (from Augmentor) (0.16.0)\n",
            "Requirement already satisfied: Pillow>=4.0.0 in /usr/local/lib/python3.6/dist-packages (from Augmentor) (4.3.0)\n",
            "Requirement already satisfied: tqdm>=4.9.0 in /usr/local/lib/python3.6/dist-packages (from Augmentor) (4.28.1)\n",
            "Requirement already satisfied: olefile in /usr/local/lib/python3.6/dist-packages (from Pillow>=4.0.0->Augmentor) (0.46)\n"
          ],
          "name": "stdout"
        }
      ]
    },
    {
      "cell_type": "code",
      "metadata": {
        "id": "AYgFDfhdbttZ",
        "colab_type": "code",
        "colab": {}
      },
      "source": [
        "import zipfile\n",
        "zip_ref = zipfile.ZipFile('/gdrive/My Drive/data/flower.zip', 'r')\n",
        "zip_ref.extractall()\n",
        "zip_ref.close()"
      ],
      "execution_count": 0,
      "outputs": []
    },
    {
      "cell_type": "code",
      "metadata": {
        "id": "0afb4QJLbvjv",
        "colab_type": "code",
        "colab": {}
      },
      "source": [
        "\n",
        "IMG_SIZE = 224\n",
        "IMG_HEIGHT = 224\n",
        "\n",
        "\n",
        "\n",
        "ATTR = ['Type']"
      ],
      "execution_count": 0,
      "outputs": []
    },
    {
      "cell_type": "code",
      "metadata": {
        "id": "5QHAWuuUcS8n",
        "colab_type": "code",
        "colab": {}
      },
      "source": [
        "df_attr = pd.read_csv('/gdrive/My Drive/data/attr.csv')\n",
        "df_attr.set_index('image_id', inplace=True)\n",
        "df_attr.shape\n",
        "images_folder ='train/'"
      ],
      "execution_count": 0,
      "outputs": []
    },
    {
      "cell_type": "code",
      "metadata": {
        "id": "zdaoV_F3ddsK",
        "colab_type": "code",
        "colab": {}
      },
      "source": [
        "def load_reshape_img(fname):\n",
        "  \n",
        "    img = load_img(fname)  \n",
        "    x = img_to_array(img)/255.\n",
        "    x = cv2.resize(x,(IMG_WIDTH,IMG_HEIGHT),3)    \n",
        "    x = x.reshape((1,) + x.shape)\n",
        "    \n",
        "    return x"
      ],
      "execution_count": 0,
      "outputs": []
    },
    {
      "cell_type": "code",
      "metadata": {
        "id": "cjrwla6McmUe",
        "colab_type": "code",
        "colab": {}
      },
      "source": [
        "model = MobileNetV2(alpha=0.35,weights='imagenet',include_top=False,input_shape=(224, 224, 3))"
      ],
      "execution_count": 0,
      "outputs": []
    },
    {
      "cell_type": "code",
      "metadata": {
        "id": "kgc3jmT3dosj",
        "colab_type": "code",
        "outputId": "073ee03f-490f-4fe1-d733-31146f85046b",
        "colab": {
          "base_uri": "https://localhost:8080/",
          "height": 85
        }
      },
      "source": [
        "#Adding custom Layers\n",
        "x = model.output \n",
        "x = GlobalAveragePooling2D()(x) \n",
        "x = Dense(1024, activation=\"relu\",W_regularizer=l2(0.0001))(x) \n",
        "x = Dropout(0.3)(x) \n",
        "x = Dense(512, activation=\"relu\",W_regularizer=l2(0.0001))(x) \n",
        "predictions = Dense(102, activation=\"softmax\")(x)"
      ],
      "execution_count": 0,
      "outputs": [
        {
          "output_type": "stream",
          "text": [
            "/usr/local/lib/python3.6/dist-packages/ipykernel_launcher.py:3: UserWarning: Update your `Dense` call to the Keras 2 API: `Dense(1024, activation=\"relu\", kernel_regularizer=<keras.reg...)`\n",
            "  This is separate from the ipykernel package so we can avoid doing imports until\n",
            "/usr/local/lib/python3.6/dist-packages/ipykernel_launcher.py:5: UserWarning: Update your `Dense` call to the Keras 2 API: `Dense(512, activation=\"relu\", kernel_regularizer=<keras.reg...)`\n",
            "  \"\"\"\n"
          ],
          "name": "stderr"
        }
      ]
    },
    {
      "cell_type": "code",
      "metadata": {
        "id": "MvVWoKmBdq6V",
        "colab_type": "code",
        "outputId": "91c7c1e2-2fa3-4a0d-8a3c-55e9f16a02fa",
        "colab": {
          "base_uri": "https://localhost:8080/",
          "height": 1000
        }
      },
      "source": [
        "# create the second model \n",
        "model2 = Model(inputs=model.input, outputs=predictions)\n",
        "\n",
        "#Lock initial layers to not be trained\n",
        "for layer in model.layers[:52]:\n",
        "   layer.trainable = False\n",
        "    \n",
        "# Check the status of the layers \n",
        "#for layer in InceptionV3model.layers:\n",
        " #   print(layer, layer.trainable)  \n",
        "    \n",
        "    \n",
        "    \n",
        "    \n",
        "# Show a summary of the model. Check the number of trainable parameters\n",
        "model2.summary()"
      ],
      "execution_count": 0,
      "outputs": [
        {
          "output_type": "stream",
          "text": [
            "__________________________________________________________________________________________________\n",
            "Layer (type)                    Output Shape         Param #     Connected to                     \n",
            "==================================================================================================\n",
            "input_2 (InputLayer)            (None, 224, 224, 3)  0                                            \n",
            "__________________________________________________________________________________________________\n",
            "Conv1_pad (ZeroPadding2D)       (None, 225, 225, 3)  0           input_2[0][0]                    \n",
            "__________________________________________________________________________________________________\n",
            "Conv1 (Conv2D)                  (None, 112, 112, 16) 432         Conv1_pad[0][0]                  \n",
            "__________________________________________________________________________________________________\n",
            "bn_Conv1 (BatchNormalization)   (None, 112, 112, 16) 64          Conv1[0][0]                      \n",
            "__________________________________________________________________________________________________\n",
            "Conv1_relu (ReLU)               (None, 112, 112, 16) 0           bn_Conv1[0][0]                   \n",
            "__________________________________________________________________________________________________\n",
            "expanded_conv_depthwise (Depthw (None, 112, 112, 16) 144         Conv1_relu[0][0]                 \n",
            "__________________________________________________________________________________________________\n",
            "expanded_conv_depthwise_BN (Bat (None, 112, 112, 16) 64          expanded_conv_depthwise[0][0]    \n",
            "__________________________________________________________________________________________________\n",
            "expanded_conv_depthwise_relu (R (None, 112, 112, 16) 0           expanded_conv_depthwise_BN[0][0] \n",
            "__________________________________________________________________________________________________\n",
            "expanded_conv_project (Conv2D)  (None, 112, 112, 8)  128         expanded_conv_depthwise_relu[0][0\n",
            "__________________________________________________________________________________________________\n",
            "expanded_conv_project_BN (Batch (None, 112, 112, 8)  32          expanded_conv_project[0][0]      \n",
            "__________________________________________________________________________________________________\n",
            "block_1_expand (Conv2D)         (None, 112, 112, 48) 384         expanded_conv_project_BN[0][0]   \n",
            "__________________________________________________________________________________________________\n",
            "block_1_expand_BN (BatchNormali (None, 112, 112, 48) 192         block_1_expand[0][0]             \n",
            "__________________________________________________________________________________________________\n",
            "block_1_expand_relu (ReLU)      (None, 112, 112, 48) 0           block_1_expand_BN[0][0]          \n",
            "__________________________________________________________________________________________________\n",
            "block_1_pad (ZeroPadding2D)     (None, 113, 113, 48) 0           block_1_expand_relu[0][0]        \n",
            "__________________________________________________________________________________________________\n",
            "block_1_depthwise (DepthwiseCon (None, 56, 56, 48)   432         block_1_pad[0][0]                \n",
            "__________________________________________________________________________________________________\n",
            "block_1_depthwise_BN (BatchNorm (None, 56, 56, 48)   192         block_1_depthwise[0][0]          \n",
            "__________________________________________________________________________________________________\n",
            "block_1_depthwise_relu (ReLU)   (None, 56, 56, 48)   0           block_1_depthwise_BN[0][0]       \n",
            "__________________________________________________________________________________________________\n",
            "block_1_project (Conv2D)        (None, 56, 56, 8)    384         block_1_depthwise_relu[0][0]     \n",
            "__________________________________________________________________________________________________\n",
            "block_1_project_BN (BatchNormal (None, 56, 56, 8)    32          block_1_project[0][0]            \n",
            "__________________________________________________________________________________________________\n",
            "block_2_expand (Conv2D)         (None, 56, 56, 48)   384         block_1_project_BN[0][0]         \n",
            "__________________________________________________________________________________________________\n",
            "block_2_expand_BN (BatchNormali (None, 56, 56, 48)   192         block_2_expand[0][0]             \n",
            "__________________________________________________________________________________________________\n",
            "block_2_expand_relu (ReLU)      (None, 56, 56, 48)   0           block_2_expand_BN[0][0]          \n",
            "__________________________________________________________________________________________________\n",
            "block_2_depthwise (DepthwiseCon (None, 56, 56, 48)   432         block_2_expand_relu[0][0]        \n",
            "__________________________________________________________________________________________________\n",
            "block_2_depthwise_BN (BatchNorm (None, 56, 56, 48)   192         block_2_depthwise[0][0]          \n",
            "__________________________________________________________________________________________________\n",
            "block_2_depthwise_relu (ReLU)   (None, 56, 56, 48)   0           block_2_depthwise_BN[0][0]       \n",
            "__________________________________________________________________________________________________\n",
            "block_2_project (Conv2D)        (None, 56, 56, 8)    384         block_2_depthwise_relu[0][0]     \n",
            "__________________________________________________________________________________________________\n",
            "block_2_project_BN (BatchNormal (None, 56, 56, 8)    32          block_2_project[0][0]            \n",
            "__________________________________________________________________________________________________\n",
            "block_2_add (Add)               (None, 56, 56, 8)    0           block_1_project_BN[0][0]         \n",
            "                                                                 block_2_project_BN[0][0]         \n",
            "__________________________________________________________________________________________________\n",
            "block_3_expand (Conv2D)         (None, 56, 56, 48)   384         block_2_add[0][0]                \n",
            "__________________________________________________________________________________________________\n",
            "block_3_expand_BN (BatchNormali (None, 56, 56, 48)   192         block_3_expand[0][0]             \n",
            "__________________________________________________________________________________________________\n",
            "block_3_expand_relu (ReLU)      (None, 56, 56, 48)   0           block_3_expand_BN[0][0]          \n",
            "__________________________________________________________________________________________________\n",
            "block_3_pad (ZeroPadding2D)     (None, 57, 57, 48)   0           block_3_expand_relu[0][0]        \n",
            "__________________________________________________________________________________________________\n",
            "block_3_depthwise (DepthwiseCon (None, 28, 28, 48)   432         block_3_pad[0][0]                \n",
            "__________________________________________________________________________________________________\n",
            "block_3_depthwise_BN (BatchNorm (None, 28, 28, 48)   192         block_3_depthwise[0][0]          \n",
            "__________________________________________________________________________________________________\n",
            "block_3_depthwise_relu (ReLU)   (None, 28, 28, 48)   0           block_3_depthwise_BN[0][0]       \n",
            "__________________________________________________________________________________________________\n",
            "block_3_project (Conv2D)        (None, 28, 28, 16)   768         block_3_depthwise_relu[0][0]     \n",
            "__________________________________________________________________________________________________\n",
            "block_3_project_BN (BatchNormal (None, 28, 28, 16)   64          block_3_project[0][0]            \n",
            "__________________________________________________________________________________________________\n",
            "block_4_expand (Conv2D)         (None, 28, 28, 96)   1536        block_3_project_BN[0][0]         \n",
            "__________________________________________________________________________________________________\n",
            "block_4_expand_BN (BatchNormali (None, 28, 28, 96)   384         block_4_expand[0][0]             \n",
            "__________________________________________________________________________________________________\n",
            "block_4_expand_relu (ReLU)      (None, 28, 28, 96)   0           block_4_expand_BN[0][0]          \n",
            "__________________________________________________________________________________________________\n",
            "block_4_depthwise (DepthwiseCon (None, 28, 28, 96)   864         block_4_expand_relu[0][0]        \n",
            "__________________________________________________________________________________________________\n",
            "block_4_depthwise_BN (BatchNorm (None, 28, 28, 96)   384         block_4_depthwise[0][0]          \n",
            "__________________________________________________________________________________________________\n",
            "block_4_depthwise_relu (ReLU)   (None, 28, 28, 96)   0           block_4_depthwise_BN[0][0]       \n",
            "__________________________________________________________________________________________________\n",
            "block_4_project (Conv2D)        (None, 28, 28, 16)   1536        block_4_depthwise_relu[0][0]     \n",
            "__________________________________________________________________________________________________\n",
            "block_4_project_BN (BatchNormal (None, 28, 28, 16)   64          block_4_project[0][0]            \n",
            "__________________________________________________________________________________________________\n",
            "block_4_add (Add)               (None, 28, 28, 16)   0           block_3_project_BN[0][0]         \n",
            "                                                                 block_4_project_BN[0][0]         \n",
            "__________________________________________________________________________________________________\n",
            "block_5_expand (Conv2D)         (None, 28, 28, 96)   1536        block_4_add[0][0]                \n",
            "__________________________________________________________________________________________________\n",
            "block_5_expand_BN (BatchNormali (None, 28, 28, 96)   384         block_5_expand[0][0]             \n",
            "__________________________________________________________________________________________________\n",
            "block_5_expand_relu (ReLU)      (None, 28, 28, 96)   0           block_5_expand_BN[0][0]          \n",
            "__________________________________________________________________________________________________\n",
            "block_5_depthwise (DepthwiseCon (None, 28, 28, 96)   864         block_5_expand_relu[0][0]        \n",
            "__________________________________________________________________________________________________\n",
            "block_5_depthwise_BN (BatchNorm (None, 28, 28, 96)   384         block_5_depthwise[0][0]          \n",
            "__________________________________________________________________________________________________\n",
            "block_5_depthwise_relu (ReLU)   (None, 28, 28, 96)   0           block_5_depthwise_BN[0][0]       \n",
            "__________________________________________________________________________________________________\n",
            "block_5_project (Conv2D)        (None, 28, 28, 16)   1536        block_5_depthwise_relu[0][0]     \n",
            "__________________________________________________________________________________________________\n",
            "block_5_project_BN (BatchNormal (None, 28, 28, 16)   64          block_5_project[0][0]            \n",
            "__________________________________________________________________________________________________\n",
            "block_5_add (Add)               (None, 28, 28, 16)   0           block_4_add[0][0]                \n",
            "                                                                 block_5_project_BN[0][0]         \n",
            "__________________________________________________________________________________________________\n",
            "block_6_expand (Conv2D)         (None, 28, 28, 96)   1536        block_5_add[0][0]                \n",
            "__________________________________________________________________________________________________\n",
            "block_6_expand_BN (BatchNormali (None, 28, 28, 96)   384         block_6_expand[0][0]             \n",
            "__________________________________________________________________________________________________\n",
            "block_6_expand_relu (ReLU)      (None, 28, 28, 96)   0           block_6_expand_BN[0][0]          \n",
            "__________________________________________________________________________________________________\n",
            "block_6_pad (ZeroPadding2D)     (None, 29, 29, 96)   0           block_6_expand_relu[0][0]        \n",
            "__________________________________________________________________________________________________\n",
            "block_6_depthwise (DepthwiseCon (None, 14, 14, 96)   864         block_6_pad[0][0]                \n",
            "__________________________________________________________________________________________________\n",
            "block_6_depthwise_BN (BatchNorm (None, 14, 14, 96)   384         block_6_depthwise[0][0]          \n",
            "__________________________________________________________________________________________________\n",
            "block_6_depthwise_relu (ReLU)   (None, 14, 14, 96)   0           block_6_depthwise_BN[0][0]       \n",
            "__________________________________________________________________________________________________\n",
            "block_6_project (Conv2D)        (None, 14, 14, 24)   2304        block_6_depthwise_relu[0][0]     \n",
            "__________________________________________________________________________________________________\n",
            "block_6_project_BN (BatchNormal (None, 14, 14, 24)   96          block_6_project[0][0]            \n",
            "__________________________________________________________________________________________________\n",
            "block_7_expand (Conv2D)         (None, 14, 14, 144)  3456        block_6_project_BN[0][0]         \n",
            "__________________________________________________________________________________________________\n",
            "block_7_expand_BN (BatchNormali (None, 14, 14, 144)  576         block_7_expand[0][0]             \n",
            "__________________________________________________________________________________________________\n",
            "block_7_expand_relu (ReLU)      (None, 14, 14, 144)  0           block_7_expand_BN[0][0]          \n",
            "__________________________________________________________________________________________________\n",
            "block_7_depthwise (DepthwiseCon (None, 14, 14, 144)  1296        block_7_expand_relu[0][0]        \n",
            "__________________________________________________________________________________________________\n",
            "block_7_depthwise_BN (BatchNorm (None, 14, 14, 144)  576         block_7_depthwise[0][0]          \n",
            "__________________________________________________________________________________________________\n",
            "block_7_depthwise_relu (ReLU)   (None, 14, 14, 144)  0           block_7_depthwise_BN[0][0]       \n",
            "__________________________________________________________________________________________________\n",
            "block_7_project (Conv2D)        (None, 14, 14, 24)   3456        block_7_depthwise_relu[0][0]     \n",
            "__________________________________________________________________________________________________\n",
            "block_7_project_BN (BatchNormal (None, 14, 14, 24)   96          block_7_project[0][0]            \n",
            "__________________________________________________________________________________________________\n",
            "block_7_add (Add)               (None, 14, 14, 24)   0           block_6_project_BN[0][0]         \n",
            "                                                                 block_7_project_BN[0][0]         \n",
            "__________________________________________________________________________________________________\n",
            "block_8_expand (Conv2D)         (None, 14, 14, 144)  3456        block_7_add[0][0]                \n",
            "__________________________________________________________________________________________________\n",
            "block_8_expand_BN (BatchNormali (None, 14, 14, 144)  576         block_8_expand[0][0]             \n",
            "__________________________________________________________________________________________________\n",
            "block_8_expand_relu (ReLU)      (None, 14, 14, 144)  0           block_8_expand_BN[0][0]          \n",
            "__________________________________________________________________________________________________\n",
            "block_8_depthwise (DepthwiseCon (None, 14, 14, 144)  1296        block_8_expand_relu[0][0]        \n",
            "__________________________________________________________________________________________________\n",
            "block_8_depthwise_BN (BatchNorm (None, 14, 14, 144)  576         block_8_depthwise[0][0]          \n",
            "__________________________________________________________________________________________________\n",
            "block_8_depthwise_relu (ReLU)   (None, 14, 14, 144)  0           block_8_depthwise_BN[0][0]       \n",
            "__________________________________________________________________________________________________\n",
            "block_8_project (Conv2D)        (None, 14, 14, 24)   3456        block_8_depthwise_relu[0][0]     \n",
            "__________________________________________________________________________________________________\n",
            "block_8_project_BN (BatchNormal (None, 14, 14, 24)   96          block_8_project[0][0]            \n",
            "__________________________________________________________________________________________________\n",
            "block_8_add (Add)               (None, 14, 14, 24)   0           block_7_add[0][0]                \n",
            "                                                                 block_8_project_BN[0][0]         \n",
            "__________________________________________________________________________________________________\n",
            "block_9_expand (Conv2D)         (None, 14, 14, 144)  3456        block_8_add[0][0]                \n",
            "__________________________________________________________________________________________________\n",
            "block_9_expand_BN (BatchNormali (None, 14, 14, 144)  576         block_9_expand[0][0]             \n",
            "__________________________________________________________________________________________________\n",
            "block_9_expand_relu (ReLU)      (None, 14, 14, 144)  0           block_9_expand_BN[0][0]          \n",
            "__________________________________________________________________________________________________\n",
            "block_9_depthwise (DepthwiseCon (None, 14, 14, 144)  1296        block_9_expand_relu[0][0]        \n",
            "__________________________________________________________________________________________________\n",
            "block_9_depthwise_BN (BatchNorm (None, 14, 14, 144)  576         block_9_depthwise[0][0]          \n",
            "__________________________________________________________________________________________________\n",
            "block_9_depthwise_relu (ReLU)   (None, 14, 14, 144)  0           block_9_depthwise_BN[0][0]       \n",
            "__________________________________________________________________________________________________\n",
            "block_9_project (Conv2D)        (None, 14, 14, 24)   3456        block_9_depthwise_relu[0][0]     \n",
            "__________________________________________________________________________________________________\n",
            "block_9_project_BN (BatchNormal (None, 14, 14, 24)   96          block_9_project[0][0]            \n",
            "__________________________________________________________________________________________________\n",
            "block_9_add (Add)               (None, 14, 14, 24)   0           block_8_add[0][0]                \n",
            "                                                                 block_9_project_BN[0][0]         \n",
            "__________________________________________________________________________________________________\n",
            "block_10_expand (Conv2D)        (None, 14, 14, 144)  3456        block_9_add[0][0]                \n",
            "__________________________________________________________________________________________________\n",
            "block_10_expand_BN (BatchNormal (None, 14, 14, 144)  576         block_10_expand[0][0]            \n",
            "__________________________________________________________________________________________________\n",
            "block_10_expand_relu (ReLU)     (None, 14, 14, 144)  0           block_10_expand_BN[0][0]         \n",
            "__________________________________________________________________________________________________\n",
            "block_10_depthwise (DepthwiseCo (None, 14, 14, 144)  1296        block_10_expand_relu[0][0]       \n",
            "__________________________________________________________________________________________________\n",
            "block_10_depthwise_BN (BatchNor (None, 14, 14, 144)  576         block_10_depthwise[0][0]         \n",
            "__________________________________________________________________________________________________\n",
            "block_10_depthwise_relu (ReLU)  (None, 14, 14, 144)  0           block_10_depthwise_BN[0][0]      \n",
            "__________________________________________________________________________________________________\n",
            "block_10_project (Conv2D)       (None, 14, 14, 32)   4608        block_10_depthwise_relu[0][0]    \n",
            "__________________________________________________________________________________________________\n",
            "block_10_project_BN (BatchNorma (None, 14, 14, 32)   128         block_10_project[0][0]           \n",
            "__________________________________________________________________________________________________\n",
            "block_11_expand (Conv2D)        (None, 14, 14, 192)  6144        block_10_project_BN[0][0]        \n",
            "__________________________________________________________________________________________________\n",
            "block_11_expand_BN (BatchNormal (None, 14, 14, 192)  768         block_11_expand[0][0]            \n",
            "__________________________________________________________________________________________________\n",
            "block_11_expand_relu (ReLU)     (None, 14, 14, 192)  0           block_11_expand_BN[0][0]         \n",
            "__________________________________________________________________________________________________\n",
            "block_11_depthwise (DepthwiseCo (None, 14, 14, 192)  1728        block_11_expand_relu[0][0]       \n",
            "__________________________________________________________________________________________________\n",
            "block_11_depthwise_BN (BatchNor (None, 14, 14, 192)  768         block_11_depthwise[0][0]         \n",
            "__________________________________________________________________________________________________\n",
            "block_11_depthwise_relu (ReLU)  (None, 14, 14, 192)  0           block_11_depthwise_BN[0][0]      \n",
            "__________________________________________________________________________________________________\n",
            "block_11_project (Conv2D)       (None, 14, 14, 32)   6144        block_11_depthwise_relu[0][0]    \n",
            "__________________________________________________________________________________________________\n",
            "block_11_project_BN (BatchNorma (None, 14, 14, 32)   128         block_11_project[0][0]           \n",
            "__________________________________________________________________________________________________\n",
            "block_11_add (Add)              (None, 14, 14, 32)   0           block_10_project_BN[0][0]        \n",
            "                                                                 block_11_project_BN[0][0]        \n",
            "__________________________________________________________________________________________________\n",
            "block_12_expand (Conv2D)        (None, 14, 14, 192)  6144        block_11_add[0][0]               \n",
            "__________________________________________________________________________________________________\n",
            "block_12_expand_BN (BatchNormal (None, 14, 14, 192)  768         block_12_expand[0][0]            \n",
            "__________________________________________________________________________________________________\n",
            "block_12_expand_relu (ReLU)     (None, 14, 14, 192)  0           block_12_expand_BN[0][0]         \n",
            "__________________________________________________________________________________________________\n",
            "block_12_depthwise (DepthwiseCo (None, 14, 14, 192)  1728        block_12_expand_relu[0][0]       \n",
            "__________________________________________________________________________________________________\n",
            "block_12_depthwise_BN (BatchNor (None, 14, 14, 192)  768         block_12_depthwise[0][0]         \n",
            "__________________________________________________________________________________________________\n",
            "block_12_depthwise_relu (ReLU)  (None, 14, 14, 192)  0           block_12_depthwise_BN[0][0]      \n",
            "__________________________________________________________________________________________________\n",
            "block_12_project (Conv2D)       (None, 14, 14, 32)   6144        block_12_depthwise_relu[0][0]    \n",
            "__________________________________________________________________________________________________\n",
            "block_12_project_BN (BatchNorma (None, 14, 14, 32)   128         block_12_project[0][0]           \n",
            "__________________________________________________________________________________________________\n",
            "block_12_add (Add)              (None, 14, 14, 32)   0           block_11_add[0][0]               \n",
            "                                                                 block_12_project_BN[0][0]        \n",
            "__________________________________________________________________________________________________\n",
            "block_13_expand (Conv2D)        (None, 14, 14, 192)  6144        block_12_add[0][0]               \n",
            "__________________________________________________________________________________________________\n",
            "block_13_expand_BN (BatchNormal (None, 14, 14, 192)  768         block_13_expand[0][0]            \n",
            "__________________________________________________________________________________________________\n",
            "block_13_expand_relu (ReLU)     (None, 14, 14, 192)  0           block_13_expand_BN[0][0]         \n",
            "__________________________________________________________________________________________________\n",
            "block_13_pad (ZeroPadding2D)    (None, 15, 15, 192)  0           block_13_expand_relu[0][0]       \n",
            "__________________________________________________________________________________________________\n",
            "block_13_depthwise (DepthwiseCo (None, 7, 7, 192)    1728        block_13_pad[0][0]               \n",
            "__________________________________________________________________________________________________\n",
            "block_13_depthwise_BN (BatchNor (None, 7, 7, 192)    768         block_13_depthwise[0][0]         \n",
            "__________________________________________________________________________________________________\n",
            "block_13_depthwise_relu (ReLU)  (None, 7, 7, 192)    0           block_13_depthwise_BN[0][0]      \n",
            "__________________________________________________________________________________________________\n",
            "block_13_project (Conv2D)       (None, 7, 7, 56)     10752       block_13_depthwise_relu[0][0]    \n",
            "__________________________________________________________________________________________________\n",
            "block_13_project_BN (BatchNorma (None, 7, 7, 56)     224         block_13_project[0][0]           \n",
            "__________________________________________________________________________________________________\n",
            "block_14_expand (Conv2D)        (None, 7, 7, 336)    18816       block_13_project_BN[0][0]        \n",
            "__________________________________________________________________________________________________\n",
            "block_14_expand_BN (BatchNormal (None, 7, 7, 336)    1344        block_14_expand[0][0]            \n",
            "__________________________________________________________________________________________________\n",
            "block_14_expand_relu (ReLU)     (None, 7, 7, 336)    0           block_14_expand_BN[0][0]         \n",
            "__________________________________________________________________________________________________\n",
            "block_14_depthwise (DepthwiseCo (None, 7, 7, 336)    3024        block_14_expand_relu[0][0]       \n",
            "__________________________________________________________________________________________________\n",
            "block_14_depthwise_BN (BatchNor (None, 7, 7, 336)    1344        block_14_depthwise[0][0]         \n",
            "__________________________________________________________________________________________________\n",
            "block_14_depthwise_relu (ReLU)  (None, 7, 7, 336)    0           block_14_depthwise_BN[0][0]      \n",
            "__________________________________________________________________________________________________\n",
            "block_14_project (Conv2D)       (None, 7, 7, 56)     18816       block_14_depthwise_relu[0][0]    \n",
            "__________________________________________________________________________________________________\n",
            "block_14_project_BN (BatchNorma (None, 7, 7, 56)     224         block_14_project[0][0]           \n",
            "__________________________________________________________________________________________________\n",
            "block_14_add (Add)              (None, 7, 7, 56)     0           block_13_project_BN[0][0]        \n",
            "                                                                 block_14_project_BN[0][0]        \n",
            "__________________________________________________________________________________________________\n",
            "block_15_expand (Conv2D)        (None, 7, 7, 336)    18816       block_14_add[0][0]               \n",
            "__________________________________________________________________________________________________\n",
            "block_15_expand_BN (BatchNormal (None, 7, 7, 336)    1344        block_15_expand[0][0]            \n",
            "__________________________________________________________________________________________________\n",
            "block_15_expand_relu (ReLU)     (None, 7, 7, 336)    0           block_15_expand_BN[0][0]         \n",
            "__________________________________________________________________________________________________\n",
            "block_15_depthwise (DepthwiseCo (None, 7, 7, 336)    3024        block_15_expand_relu[0][0]       \n",
            "__________________________________________________________________________________________________\n",
            "block_15_depthwise_BN (BatchNor (None, 7, 7, 336)    1344        block_15_depthwise[0][0]         \n",
            "__________________________________________________________________________________________________\n",
            "block_15_depthwise_relu (ReLU)  (None, 7, 7, 336)    0           block_15_depthwise_BN[0][0]      \n",
            "__________________________________________________________________________________________________\n",
            "block_15_project (Conv2D)       (None, 7, 7, 56)     18816       block_15_depthwise_relu[0][0]    \n",
            "__________________________________________________________________________________________________\n",
            "block_15_project_BN (BatchNorma (None, 7, 7, 56)     224         block_15_project[0][0]           \n",
            "__________________________________________________________________________________________________\n",
            "block_15_add (Add)              (None, 7, 7, 56)     0           block_14_add[0][0]               \n",
            "                                                                 block_15_project_BN[0][0]        \n",
            "__________________________________________________________________________________________________\n",
            "block_16_expand (Conv2D)        (None, 7, 7, 336)    18816       block_15_add[0][0]               \n",
            "__________________________________________________________________________________________________\n",
            "block_16_expand_BN (BatchNormal (None, 7, 7, 336)    1344        block_16_expand[0][0]            \n",
            "__________________________________________________________________________________________________\n",
            "block_16_expand_relu (ReLU)     (None, 7, 7, 336)    0           block_16_expand_BN[0][0]         \n",
            "__________________________________________________________________________________________________\n",
            "block_16_depthwise (DepthwiseCo (None, 7, 7, 336)    3024        block_16_expand_relu[0][0]       \n",
            "__________________________________________________________________________________________________\n",
            "block_16_depthwise_BN (BatchNor (None, 7, 7, 336)    1344        block_16_depthwise[0][0]         \n",
            "__________________________________________________________________________________________________\n",
            "block_16_depthwise_relu (ReLU)  (None, 7, 7, 336)    0           block_16_depthwise_BN[0][0]      \n",
            "__________________________________________________________________________________________________\n",
            "block_16_project (Conv2D)       (None, 7, 7, 112)    37632       block_16_depthwise_relu[0][0]    \n",
            "__________________________________________________________________________________________________\n",
            "block_16_project_BN (BatchNorma (None, 7, 7, 112)    448         block_16_project[0][0]           \n",
            "__________________________________________________________________________________________________\n",
            "Conv_1 (Conv2D)                 (None, 7, 7, 1280)   143360      block_16_project_BN[0][0]        \n",
            "__________________________________________________________________________________________________\n",
            "Conv_1_bn (BatchNormalization)  (None, 7, 7, 1280)   5120        Conv_1[0][0]                     \n",
            "__________________________________________________________________________________________________\n",
            "out_relu (ReLU)                 (None, 7, 7, 1280)   0           Conv_1_bn[0][0]                  \n",
            "__________________________________________________________________________________________________\n",
            "global_average_pooling2d_2 (Glo (None, 1280)         0           out_relu[0][0]                   \n",
            "__________________________________________________________________________________________________\n",
            "dense_4 (Dense)                 (None, 1024)         1311744     global_average_pooling2d_2[0][0] \n",
            "__________________________________________________________________________________________________\n",
            "dropout_2 (Dropout)             (None, 1024)         0           dense_4[0][0]                    \n",
            "__________________________________________________________________________________________________\n",
            "dense_5 (Dense)                 (None, 512)          524800      dropout_2[0][0]                  \n",
            "__________________________________________________________________________________________________\n",
            "dense_6 (Dense)                 (None, 102)          52326       dense_5[0][0]                    \n",
            "==================================================================================================\n",
            "Total params: 2,299,078\n",
            "Trainable params: 2,272,454\n",
            "Non-trainable params: 26,624\n",
            "__________________________________________________________________________________________________\n"
          ],
          "name": "stdout"
        }
      ]
    },
    {
      "cell_type": "code",
      "metadata": {
        "id": "n2lH33qrnpSt",
        "colab_type": "code",
        "outputId": "6bcfac31-f570-491c-e4c5-91264a862301",
        "colab": {
          "base_uri": "https://localhost:8080/",
          "height": 269
        }
      },
      "source": [
        "import os\n",
        "CATEGORIES = []\n",
        "DATADIR = \"/content/train\"\n",
        "\n",
        "for i in range(1,103):\n",
        "  CATEGORIES.append(str(i))\n",
        "\n",
        "\n",
        "for category in CATEGORIES:  # do dogs and cats\n",
        "    path = os.path.join(DATADIR,category)  # create path to dogs and cats\n",
        "    for img in os.listdir(path):  # iterate over each image per dogs and cats\n",
        "        img_array = cv2.imread(os.path.join(path,img) ,cv2.IMREAD_COLOR)  # convert to array\n",
        "        plt.imshow(img_array, cmap='gray')  # graph it\n",
        "        plt.show()  # display!\n",
        "\n",
        "        break  # we just want one for now so break\n",
        "    break  #...and one more!"
      ],
      "execution_count": 0,
      "outputs": [
        {
          "output_type": "display_data",
          "data": {
            "image/png": "[encoded data removed]",
            "text/plain": [
              "<Figure size 432x288 with 1 Axes>"
            ]
          },
          "metadata": {
            "tags": []
          }
        }
      ]
    },
    {
      "cell_type": "code",
      "metadata": {
        "id": "eTw43HZGwR2k",
        "colab_type": "code",
        "outputId": "6a2c8ce6-25d7-4973-84d3-0db5e34ea335",
        "colab": {
          "base_uri": "https://localhost:8080/",
          "height": 1000
        }
      },
      "source": [
        "from tqdm import tqdm\n",
        "training_data = []\n",
        "\n",
        "def create_training_data():\n",
        "    for category in CATEGORIES:  # do dogs and cats\n",
        "\n",
        "        path = os.path.join(DATADIR,category)  # create path to dogs and cats\n",
        "        class_num = CATEGORIES.index(category)  # get the classification  (0 or a 1). 0=dog 1=cat\n",
        "\n",
        "        for img in tqdm(os.listdir(path)):  # iterate over each image per dogs and cats\n",
        "            try:\n",
        "                img_array = cv2.imread(os.path.join(path,img) ,cv2.IMREAD_COLOR)  # convert to array\n",
        "                new_array = cv2.resize(img_array, (IMG_SIZE, IMG_SIZE))  # resize to normalize data size\n",
        "                training_data.append([new_array, class_num])  # add this to our training_data\n",
        "            except Exception as e:  # in the interest in keeping the output clean...\n",
        "                print(\"aaa\")\n",
        "                pass\n",
        "            #except OSError as e:\n",
        "            #    print(\"OSErrroBad img most likely\", e, os.path.join(path,img))\n",
        "            #except Exception as e:\n",
        "            #    print(\"general exception\", e, os.path.join(path,img))\n",
        "\n",
        "create_training_data()\n",
        "print(len(training_data))"
      ],
      "execution_count": 0,
      "outputs": [
        {
          "output_type": "stream",
          "text": [
            " 77%|███████▋  | 76/99 [00:00<00:00, 245.75it/s]"
          ],
          "name": "stderr"
        },
        {
          "output_type": "stream",
          "text": [
            "aaa\n"
          ],
          "name": "stdout"
        },
        {
          "output_type": "stream",
          "text": [
            "100%|██████████| 99/99 [00:00<00:00, 249.13it/s]\n",
            "100%|██████████| 120/120 [00:00<00:00, 281.69it/s]\n",
            "100%|██████████| 103/103 [00:00<00:00, 265.23it/s]\n",
            "100%|██████████| 115/115 [00:00<00:00, 266.20it/s]\n",
            "100%|██████████| 126/126 [00:00<00:00, 281.39it/s]\n",
            "100%|██████████| 101/101 [00:00<00:00, 280.13it/s]\n",
            "100%|██████████| 99/99 [00:00<00:00, 292.31it/s]\n",
            "100%|██████████| 140/140 [00:00<00:00, 269.14it/s]\n",
            "100%|██████████| 109/109 [00:00<00:00, 252.16it/s]\n",
            "100%|██████████| 107/107 [00:00<00:00, 274.28it/s]\n",
            "100%|██████████| 143/143 [00:00<00:00, 264.99it/s]\n",
            "100%|██████████| 143/143 [00:00<00:00, 263.82it/s]\n",
            "100%|██████████| 108/108 [00:00<00:00, 253.39it/s]\n",
            "100%|██████████| 110/110 [00:00<00:00, 258.06it/s]\n",
            "100%|██████████| 110/110 [00:00<00:00, 280.01it/s]\n",
            "100%|██████████| 103/103 [00:00<00:00, 283.73it/s]\n",
            "100%|██████████| 141/141 [00:00<00:00, 260.22it/s]\n",
            "100%|██████████| 141/141 [00:00<00:00, 277.01it/s]\n",
            "100%|██████████| 107/107 [00:00<00:00, 270.93it/s]\n",
            "100%|██████████| 118/118 [00:00<00:00, 293.58it/s]\n",
            "100%|██████████| 103/103 [00:00<00:00, 278.61it/s]\n",
            "100%|██████████| 120/120 [00:00<00:00, 280.66it/s]\n",
            "100%|██████████| 149/149 [00:00<00:00, 270.73it/s]\n",
            "100%|██████████| 105/105 [00:00<00:00, 257.33it/s]\n",
            "100%|██████████| 101/101 [00:00<00:00, 264.15it/s]\n",
            "100%|██████████| 101/101 [00:00<00:00, 278.91it/s]\n",
            "100%|██████████| 102/102 [00:00<00:00, 239.61it/s]\n",
            "100%|██████████| 125/125 [00:00<00:00, 268.07it/s]\n",
            "100%|██████████| 134/134 [00:00<00:00, 244.12it/s]\n",
            "100%|██████████| 136/136 [00:00<00:00, 253.86it/s]\n",
            "100%|██████████| 115/115 [00:00<00:00, 278.61it/s]\n",
            "100%|██████████| 104/104 [00:00<00:00, 277.87it/s]\n",
            "100%|██████████| 103/103 [00:00<00:00, 271.50it/s]\n",
            "100%|██████████| 100/100 [00:00<00:00, 275.94it/s]\n",
            "100%|██████████| 102/102 [00:00<00:00, 243.63it/s]\n",
            "100%|██████████| 133/133 [00:00<00:00, 278.14it/s]\n",
            "100%|██████████| 165/165 [00:00<00:00, 286.58it/s]\n",
            "100%|██████████| 113/113 [00:00<00:00, 280.80it/s]\n",
            "100%|██████████| 101/101 [00:00<00:00, 274.48it/s]\n",
            "100%|██████████| 124/124 [00:00<00:00, 281.91it/s]\n",
            "100%|██████████| 178/178 [00:00<00:00, 264.30it/s]\n",
            "100%|██████████| 120/120 [00:00<00:00, 286.65it/s]\n",
            "100%|██████████| 179/179 [00:00<00:00, 261.96it/s]\n",
            "100%|██████████| 147/147 [00:00<00:00, 260.89it/s]\n",
            "100%|██████████| 102/102 [00:00<00:00, 283.02it/s]\n",
            "100%|██████████| 240/240 [00:00<00:00, 260.56it/s]\n",
            "100%|██████████| 129/129 [00:00<00:00, 273.22it/s]\n",
            "100%|██████████| 131/131 [00:00<00:00, 295.85it/s]\n",
            "100%|██████████| 111/111 [00:00<00:00, 293.30it/s]\n",
            "100%|██████████| 149/149 [00:00<00:00, 265.12it/s]\n",
            "100%|██████████| 299/299 [00:01<00:00, 270.18it/s]\n",
            "100%|██████████| 142/142 [00:00<00:00, 289.74it/s]\n",
            "100%|██████████| 144/144 [00:00<00:00, 266.14it/s]\n",
            "100%|██████████| 122/122 [00:00<00:00, 281.78it/s]\n",
            "100%|██████████| 129/129 [00:00<00:00, 258.83it/s]\n",
            "100%|██████████| 166/166 [00:00<00:00, 274.87it/s]\n",
            "100%|██████████| 121/121 [00:00<00:00, 272.56it/s]\n",
            "100%|██████████| 165/165 [00:00<00:00, 271.95it/s]\n",
            "100%|██████████| 125/125 [00:00<00:00, 266.02it/s]\n",
            "100%|██████████| 164/164 [00:00<00:00, 258.72it/s]\n",
            "100%|██████████| 107/107 [00:00<00:00, 252.17it/s]\n",
            "100%|██████████| 116/116 [00:00<00:00, 277.95it/s]\n",
            "100%|██████████| 115/115 [00:00<00:00, 292.45it/s]\n",
            "100%|██████████| 112/112 [00:00<00:00, 290.90it/s]\n",
            "100%|██████████| 160/160 [00:00<00:00, 283.36it/s]\n",
            "100%|██████████| 122/122 [00:00<00:00, 274.94it/s]\n",
            "100%|██████████| 103/103 [00:00<00:00, 270.51it/s]\n",
            "100%|██████████| 116/116 [00:00<00:00, 294.91it/s]\n",
            "100%|██████████| 116/116 [00:00<00:00, 287.38it/s]\n",
            "100%|██████████| 123/123 [00:00<00:00, 264.29it/s]\n",
            "100%|██████████| 134/134 [00:00<00:00, 258.45it/s]\n",
            "100%|██████████| 150/150 [00:00<00:00, 268.19it/s]\n",
            "100%|██████████| 231/231 [00:00<00:00, 275.51it/s]\n",
            "100%|██████████| 222/222 [00:00<00:00, 288.64it/s]\n",
            "100%|██████████| 172/172 [00:00<00:00, 271.98it/s]\n",
            "100%|██████████| 168/168 [00:00<00:00, 270.65it/s]\n",
            "100%|██████████| 291/291 [00:01<00:00, 254.37it/s]\n",
            "100%|██████████| 188/188 [00:00<00:00, 282.46it/s]\n",
            "100%|██████████| 103/103 [00:00<00:00, 278.21it/s]\n",
            "100%|██████████| 159/159 [00:00<00:00, 272.59it/s]\n",
            "100%|██████████| 218/218 [00:00<00:00, 279.82it/s]\n",
            "100%|██████████| 160/160 [00:00<00:00, 265.31it/s]\n",
            "100%|██████████| 182/182 [00:00<00:00, 269.04it/s]\n",
            "100%|██████████| 141/141 [00:00<00:00, 283.33it/s]\n",
            "100%|██████████| 118/118 [00:00<00:00, 270.84it/s]\n",
            "100%|██████████| 118/118 [00:00<00:00, 268.13it/s]\n",
            "100%|██████████| 122/122 [00:00<00:00, 264.85it/s]\n",
            "100%|██████████| 206/206 [00:00<00:00, 282.73it/s]\n",
            "100%|██████████| 234/234 [00:00<00:00, 274.99it/s]\n",
            "100%|██████████| 133/133 [00:00<00:00, 278.58it/s]\n",
            "100%|██████████| 133/133 [00:00<00:00, 283.52it/s]\n",
            "100%|██████████| 120/120 [00:00<00:00, 271.04it/s]\n",
            "100%|██████████| 105/105 [00:00<00:00, 269.48it/s]\n",
            "100%|██████████| 211/211 [00:00<00:00, 258.73it/s]\n",
            "100%|██████████| 179/179 [00:00<00:00, 284.00it/s]\n",
            "100%|██████████| 147/147 [00:00<00:00, 282.00it/s]\n",
            "100%|██████████| 126/126 [00:00<00:00, 284.07it/s]\n",
            "100%|██████████| 143/143 [00:00<00:00, 266.96it/s]\n",
            "100%|██████████| 121/121 [00:00<00:00, 278.94it/s]\n",
            "100%|██████████| 106/106 [00:00<00:00, 271.47it/s]\n",
            "100%|██████████| 119/119 [00:00<00:00, 272.44it/s]\n",
            "100%|██████████| 107/107 [00:00<00:00, 283.88it/s]"
          ],
          "name": "stderr"
        },
        {
          "output_type": "stream",
          "text": [
            "13998\n"
          ],
          "name": "stdout"
        },
        {
          "output_type": "stream",
          "text": [
            "\n"
          ],
          "name": "stderr"
        }
      ]
    },
    {
      "cell_type": "code",
      "metadata": {
        "id": "tRd34sWovklk",
        "colab_type": "code",
        "outputId": "7a8901e9-3ffb-4a8e-af84-6e203f4dc8ff",
        "colab": {
          "base_uri": "https://localhost:8080/",
          "height": 850
        }
      },
      "source": [
        "X = []\n",
        "y = []\n",
        "\n",
        "for features,label in training_data:\n",
        "    X.append(features)\n",
        "    y.append(label)\n",
        "\n",
        "\n",
        "print(X[0].reshape(-1, IMG_SIZE, IMG_SIZE, 3))\n",
        "\n",
        "X = np.array(X).reshape(-1, IMG_SIZE, IMG_SIZE, 3)\n",
        "X = X/255.0\n",
        "\n",
        "print(X)"
      ],
      "execution_count": 0,
      "outputs": [
        {
          "output_type": "stream",
          "text": [
            "[[[[ 13  43  27]\n",
            "   [  4  43  22]\n",
            "   [  9  57  34]\n",
            "   ...\n",
            "   [ 44 118 107]\n",
            "   [ 24  94  82]\n",
            "   [ 27  96  83]]\n",
            "\n",
            "  [[ 16  51  35]\n",
            "   [  9  51  30]\n",
            "   [ 11  61  38]\n",
            "   ...\n",
            "   [ 23 102  87]\n",
            "   [ 29 104  88]\n",
            "   [ 33 107  91]]\n",
            "\n",
            "  [[ 10  51  33]\n",
            "   [  3  50  28]\n",
            "   [ 13  63  41]\n",
            "   ...\n",
            "   [ 27 109  89]\n",
            "   [ 30 113  91]\n",
            "   [ 32 115  92]]\n",
            "\n",
            "  ...\n",
            "\n",
            "  [[ 32  47  49]\n",
            "   [ 21  35  33]\n",
            "   [ 25  35  31]\n",
            "   ...\n",
            "   [ 15  13  12]\n",
            "   [ 16  18  18]\n",
            "   [ 13  18  17]]\n",
            "\n",
            "  [[ 41  45  44]\n",
            "   [ 26  32  31]\n",
            "   [ 19  28  27]\n",
            "   ...\n",
            "   [ 21  19  19]\n",
            "   [ 17  15  14]\n",
            "   [ 21  19  17]]\n",
            "\n",
            "  [[ 33  33  33]\n",
            "   [ 18  23  22]\n",
            "   [ 16  24  23]\n",
            "   ...\n",
            "   [ 23  22  21]\n",
            "   [ 24  20  19]\n",
            "   [ 27  23  22]]]]\n"
          ],
          "name": "stdout"
        }
      ]
    },
    {
      "cell_type": "code",
      "metadata": {
        "id": "epqd7gnlnyVv",
        "colab_type": "code",
        "outputId": "ebe756d1-74b4-4fa4-d8d2-c94be53fbfb2",
        "colab": {
          "base_uri": "https://localhost:8080/",
          "height": 71
        }
      },
      "source": [
        "model2.compile(optimizer=SGD(lr=0.0001, momentum=0.9)\n",
        "                    , loss='sparse_categorical_crossentropy'\n",
        "                    , metrics=['accuracy'])"
      ],
      "execution_count": 0,
      "outputs": [
        {
          "output_type": "stream",
          "text": [
            "W0710 09:35:32.875475 140501432776576 deprecation_wrapper.py:119] From /usr/local/lib/python3.6/dist-packages/keras/optimizers.py:790: The name tf.train.Optimizer is deprecated. Please use tf.compat.v1.train.Optimizer instead.\n",
            "\n"
          ],
          "name": "stderr"
        }
      ]
    },
    {
      "cell_type": "code",
      "metadata": {
        "id": "RVf1G8eLn0kp",
        "colab_type": "code",
        "outputId": "f662a7d2-3917-4d0a-f330-2c51647d5b59",
        "colab": {
          "base_uri": "https://localhost:8080/",
          "height": 462
        }
      },
      "source": [
        "#13\n",
        "model2.fit(X, y, batch_size=16, epochs=10, validation_split=0.1)"
      ],
      "execution_count": 0,
      "outputs": [
        {
          "output_type": "stream",
          "text": [
            "W0710 09:35:33.049089 140501432776576 deprecation.py:323] From /usr/local/lib/python3.6/dist-packages/tensorflow/python/ops/math_grad.py:1250: add_dispatch_support.<locals>.wrapper (from tensorflow.python.ops.array_ops) is deprecated and will be removed in a future version.\n",
            "Instructions for updating:\n",
            "Use tf.where in 2.0, which has the same broadcast rule as np.where\n"
          ],
          "name": "stderr"
        },
        {
          "output_type": "stream",
          "text": [
            "Train on 6633 samples, validate on 737 samples\n",
            "Epoch 1/10\n",
            "6633/6633 [==============================] - 67s 10ms/step - loss: 4.5288 - acc: 0.0320 - val_loss: 5.1103 - val_acc: 0.0000e+00\n",
            "Epoch 2/10\n",
            "6633/6633 [==============================] - 62s 9ms/step - loss: 4.0955 - acc: 0.1345 - val_loss: 5.6131 - val_acc: 0.0000e+00\n",
            "Epoch 3/10\n",
            "6633/6633 [==============================] - 62s 9ms/step - loss: 3.6010 - acc: 0.2352 - val_loss: 6.1690 - val_acc: 0.0000e+00\n",
            "Epoch 4/10\n",
            "6633/6633 [==============================] - 61s 9ms/step - loss: 3.0684 - acc: 0.3581 - val_loss: 6.8082 - val_acc: 0.0000e+00\n",
            "Epoch 5/10\n",
            "6633/6633 [==============================] - 62s 9ms/step - loss: 2.5307 - acc: 0.4716 - val_loss: 7.5265 - val_acc: 0.0000e+00\n",
            "Epoch 6/10\n",
            "6633/6633 [==============================] - 62s 9ms/step - loss: 2.0589 - acc: 0.5601 - val_loss: 8.2618 - val_acc: 0.0041\n",
            "Epoch 7/10\n",
            "6633/6633 [==============================] - 61s 9ms/step - loss: 1.6729 - acc: 0.6355 - val_loss: 8.9552 - val_acc: 0.0122\n",
            "Epoch 8/10\n",
            "6633/6633 [==============================] - 62s 9ms/step - loss: 1.3861 - acc: 0.6949 - val_loss: 9.5058 - val_acc: 0.0190\n",
            "Epoch 9/10\n",
            "6633/6633 [==============================] - 62s 9ms/step - loss: 1.1455 - acc: 0.7475 - val_loss: 10.0609 - val_acc: 0.0217\n",
            "Epoch 10/10\n",
            "6633/6633 [==============================] - 61s 9ms/step - loss: 0.9614 - acc: 0.7877 - val_loss: 10.4882 - val_acc: 0.0244\n"
          ],
          "name": "stdout"
        },
        {
          "output_type": "execute_result",
          "data": {
            "text/plain": [
              "<keras.callbacks.History at 0x7fc862a702e8>"
            ]
          },
          "metadata": {
            "tags": []
          },
          "execution_count": 14
        }
      ]
    },
    {
      "cell_type": "code",
      "metadata": {
        "id": "Vnu8ZhYAPrv3",
        "colab_type": "code",
        "colab": {}
      },
      "source": [
        "def load_reshape_img(fname): \n",
        "\n",
        "  img = load_img(fname) \n",
        "  x = img_to_array(img)/255. \n",
        "  x = cv2.resize(x,(224,224),3) \n",
        "  x = x.reshape((1,) + x.shape) \n",
        "\n",
        "  return x"
      ],
      "execution_count": 0,
      "outputs": []
    },
    {
      "cell_type": "code",
      "metadata": {
        "id": "LUyrmj78nB_e",
        "colab_type": "code",
        "outputId": "8bf62ede-94eb-4736-8d5d-1a3bad501fe9",
        "colab": {
          "base_uri": "https://localhost:8080/",
          "height": 34
        }
      },
      "source": [
        "np.argmax(model2.predict([load_reshape_img('/gdrive/My Drive/data/rose2.JPG')]))+1\n",
        "#model2.predict([load_reshape_img('/gdrive/My Drive/data/rose.jpg')])"
      ],
      "execution_count": 0,
      "outputs": [
        {
          "output_type": "execute_result",
          "data": {
            "text/plain": [
              "28"
            ]
          },
          "metadata": {
            "tags": []
          },
          "execution_count": 16
        }
      ]
    },
    {
      "cell_type": "code",
      "metadata": {
        "id": "lduxvDBMzYGR",
        "colab_type": "code",
        "colab": {}
      },
      "source": [
        "res = model2.predict([load_reshape_img('/gdrive/My Drive/rose2.JPG')]) \n",
        "top = sorted(res[0], reverse=True)[0:3] \n",
        "top_index = [] \n",
        "for i in top: \n",
        "top_index.append((res[0].tolist()).index(i)+1) \n",
        "print(top) \n",
        "print(top_index) \n",
        "#np.argmax(model2.predict([load_reshape_img('/gdrive/My Drive/magn.jpg')]))+1 \n",
        "#model2.predict([load_reshape_img('/gdrive/My Drive/data/rose.jpg')])"
      ],
      "execution_count": 0,
      "outputs": []
    },
    {
      "cell_type": "code",
      "metadata": {
        "id": "RXIL_Dl6zfoq",
        "colab_type": "code",
        "colab": {}
      },
      "source": [
        "#model2.save('/content/my_model.h5') \n",
        "new_model = keras.models.load_model('/content/my_model.h5') \n",
        "new_model.summary()"
      ],
      "execution_count": 0,
      "outputs": []
    },
    {
      "cell_type": "code",
      "metadata": {
        "id": "ocpe_nD-zgSA",
        "colab_type": "code",
        "colab": {}
      },
      "source": [
        "from tensorflow import lite \n",
        "converter = lite.TFLiteConverter.from_keras_model_file( 'my_model.h5' ) \n",
        "model = converter.convert() \n",
        "file = open( 'model.lite' , 'wb' ) \n",
        "file.write( model )\n"
      ],
      "execution_count": 0,
      "outputs": []
    }
  ]
}