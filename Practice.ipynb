{
  "nbformat": 4,
  "nbformat_minor": 0,
  "metadata": {
    "colab": {
      "name": "Practice.ipynb",
      "provenance": [],
      "collapsed_sections": [],
      "include_colab_link": true
    },
    "kernelspec": {
      "name": "python3",
      "display_name": "Python 3"
    },
    "accelerator": "GPU"
  },
  "cells": [
    {
      "cell_type": "markdown",
      "metadata": {
        "id": "view-in-github",
        "colab_type": "text"
      },
      "source": [
        "<a href=\"https://colab.research.google.com/github/galb4tosha/my-ml/blob/master/Practice.ipynb\" target=\"_parent\"><img src=\"https://colab.research.google.com/assets/colab-badge.svg\" alt=\"Open In Colab\"/></a>"
      ]
    },
    {
      "cell_type": "code",
      "metadata": {
        "id": "HIXnUq4p6C_y",
        "colab_type": "code",
        "outputId": "5c5765a7-3d60-4c57-e837-7878c13035dd",
        "colab": {
          "base_uri": "https://localhost:8080/",
          "height": 63
        }
      },
      "source": [
        "from tensorflow.keras.models import Sequential\n",
        "from tensorflow.keras.layers import Dense, Dropout, Flatten \n",
        "from tensorflow.keras import utils\n",
        "import tensorflow as tf\n",
        "from google.colab import files\n",
        "import numpy as np\n",
        "import matplotlib.pyplot as plt\n",
        "import numpy.fft\n",
        "import numpy as np\n",
        "import statistics\n",
        "from scipy.io import wavfile\n",
        "import scipy.io.wavfile as wav\n",
        "import numpy as np\n",
        "\n",
        "import scipy.io.wavfile as wav\n",
        "\n",
        "\n",
        "from sklearn import tree, linear_model, ensemble\n",
        "from sklearn.metrics import accuracy_score\n",
        "%matplotlib inline "
      ],
      "execution_count": 0,
      "outputs": [
        {
          "output_type": "display_data",
          "data": {
            "text/html": [
              "<p style=\"color: red;\">\n",
              "The default version of TensorFlow in Colab will soon switch to TensorFlow 2.x.<br>\n",
              "We recommend you <a href=\"https://www.tensorflow.org/guide/migrate\" target=\"_blank\">upgrade</a> now \n",
              "or ensure your notebook will continue to use TensorFlow 1.x via the <code>%tensorflow_version 1.x</code> magic:\n",
              "<a href=\"https://colab.research.google.com/notebooks/tensorflow_version.ipynb\" target=\"_blank\">more info</a>.</p>\n"
            ],
            "text/plain": [
              "<IPython.core.display.HTML object>"
            ]
          },
          "metadata": {
            "tags": []
          }
        }
      ]
    },
    {
      "cell_type": "code",
      "metadata": {
        "id": "SP7w4YQ7jNp8",
        "colab_type": "code",
        "outputId": "dcfa3be0-653b-459f-813c-774eddfd4aed",
        "colab": {
          "base_uri": "https://localhost:8080/",
          "height": 124
        }
      },
      "source": [
        "from google.colab import drive\n",
        "drive.mount('/content/drive')"
      ],
      "execution_count": 0,
      "outputs": [
        {
          "output_type": "stream",
          "text": [
            "Go to this URL in a browser: https://accounts.google.com/o/oauth2/auth?client_id=947318989803-6bn6qk8qdgf4n4g3pfee6491hc0brc4i.apps.googleusercontent.com&redirect_uri=urn%3Aietf%3Awg%3Aoauth%3A2.0%3Aoob&scope=email%20https%3A%2F%2Fwww.googleapis.com%2Fauth%2Fdocs.test%20https%3A%2F%2Fwww.googleapis.com%2Fauth%2Fdrive%20https%3A%2F%2Fwww.googleapis.com%2Fauth%2Fdrive.photos.readonly%20https%3A%2F%2Fwww.googleapis.com%2Fauth%2Fpeopleapi.readonly&response_type=code\n",
            "\n",
            "Enter your authorization code:\n",
            "··········\n",
            "Mounted at /content/drive\n"
          ],
          "name": "stdout"
        }
      ]
    },
    {
      "cell_type": "code",
      "metadata": {
        "id": "hKJwy-H26gwF",
        "colab_type": "code",
        "colab": {}
      },
      "source": [
        "list_files_jackson_test = [\"{}_jackson_{}.wav\".format(i,j) for i in range(10) for j in range(5)]\n",
        "list_files_nicolas_test = [\"{}_nicolas_{}.wav\".format(i,j) for i in range(10) for j in range(5)]\n",
        "list_files_theo_test = [\"{}_theo_{}.wav\".format(i,j) for i in range(10) for j in range(5)]\n",
        "list_files_yweweler_test = [\"{}_yweweler_{}.wav\".format(i,j) for i in range(10) for j in range(5)]\n",
        "\n",
        "list_files_jackson_train = [\"{}_jackson_{}.wav\".format(i,j) for i in range(10) for j in range(5,50)]\n",
        "list_files_nicolas_train = [\"{}_nicolas_{}.wav\".format(i,j) for i in range(10) for j in range(5,50)]\n",
        "list_files_theo_train = [\"{}_theo_{}.wav\".format(i,j) for i in range(10) for j in range(5,50)]\n",
        "list_files_yweweler_train = [\"{}_yweweler_{}.wav\".format(i,j) for i in range(10) for j in range(5,50)]"
      ],
      "execution_count": 0,
      "outputs": []
    },
    {
      "cell_type": "code",
      "metadata": {
        "id": "KS70Lj5G6Luk",
        "colab_type": "code",
        "colab": {}
      },
      "source": [
        "path = \"/content/drive/My Drive/records/\"\n",
        "files_dir_train = np.array([])\n",
        "files_dir_train = np.append(list_files_jackson_train,[list_files_nicolas_train,list_files_theo_train,list_files_yweweler_train])\n",
        "files_dir_test = np.array([])\n",
        "files_dir_test = np.append(list_files_jackson_test,[list_files_nicolas_test,list_files_theo_test,list_files_yweweler_test])"
      ],
      "execution_count": 0,
      "outputs": []
    },
    {
      "cell_type": "markdown",
      "metadata": {
        "id": "PRHkSi88o6OJ",
        "colab_type": "text"
      },
      "source": [
        "**Обработка данных**"
      ]
    },
    {
      "cell_type": "code",
      "metadata": {
        "id": "LSH93_WdIQhR",
        "colab_type": "code",
        "colab": {}
      },
      "source": [
        "!pip install python_speech_features"
      ],
      "execution_count": 0,
      "outputs": []
    },
    {
      "cell_type": "code",
      "metadata": {
        "id": "Y4BnDlr1IdjM",
        "colab_type": "code",
        "colab": {}
      },
      "source": [
        "from python_speech_features import mfcc"
      ],
      "execution_count": 0,
      "outputs": []
    },
    {
      "cell_type": "code",
      "metadata": {
        "id": "PTJ742iYIdcP",
        "colab_type": "code",
        "colab": {}
      },
      "source": [
        "def create_mfcc(files): # Генерация mfcc из wav файла\n",
        "  sounds = np.array([wav.read(path + f) for f in files])\n",
        "  X = np.array([mfcc(s[1],s[0]) for s in sounds])\n",
        "  return X"
      ],
      "execution_count": 0,
      "outputs": []
    },
    {
      "cell_type": "code",
      "metadata": {
        "id": "vv73MqmwIdYp",
        "colab_type": "code",
        "colab": {}
      },
      "source": [
        "X_train = create_mfcc(files_dir_train)\n",
        "X_test = create_mfcc(files_dir_test)"
      ],
      "execution_count": 0,
      "outputs": []
    },
    {
      "cell_type": "markdown",
      "metadata": {
        "id": "jlvsfETdJSjv",
        "colab_type": "text"
      },
      "source": [
        "Для обучения необходимо чтобы данные были одного размера. Я приводил к медианному значению длины всех массивов, так как в выборке есть несколько файлов, которые имеют очень большую длину. Также необходимо, чтобы X_train и X_test имел вид массива массивов, а не массив матриц, которые возвращает функция mfcc."
      ]
    },
    {
      "cell_type": "code",
      "metadata": {
        "id": "14LOMz8GIdRa",
        "colab_type": "code",
        "colab": {}
      },
      "source": [
        "x_len = int(statistics.median(np.array([len(x) for x in X_train]))) "
      ],
      "execution_count": 0,
      "outputs": []
    },
    {
      "cell_type": "code",
      "metadata": {
        "id": "mZfzYS6vJfQC",
        "colab_type": "code",
        "colab": {}
      },
      "source": [
        "def formating_size_X(X,size):\n",
        "  X_buf = np.copy(X)\n",
        "  for i in range(len(X)):\n",
        "    if len(X[i]) > size:\n",
        "      X_buf[i] = X[i][:size]\n",
        "    else:\n",
        "      adding_z_len = size - len(X[i])\n",
        "      buf_vect = np.array([[0 for j in range(13)] for i in range(adding_z_len)])\n",
        "      X_buf[i] = np.append(X[i],buf_vect)\n",
        "  return X_buf"
      ],
      "execution_count": 0,
      "outputs": []
    },
    {
      "cell_type": "code",
      "metadata": {
        "id": "MF9k3fGmJr0H",
        "colab_type": "code",
        "colab": {}
      },
      "source": [
        "X_train = formating_size_X(X_train,x_len)\n",
        "X_test = formating_size_X(X_test,x_len)"
      ],
      "execution_count": 0,
      "outputs": []
    },
    {
      "cell_type": "code",
      "metadata": {
        "id": "gYeTSu3MJrr0",
        "colab_type": "code",
        "colab": {}
      },
      "source": [
        "train_X = np.array([np.reshape(i,13*x_len) for i in X_train])\n",
        "X_train = np.copy(train_X)\n",
        "test_X = np.array([np.reshape(i,13*x_len) for i in X_test])\n",
        "X_test = np.copy(test_X)"
      ],
      "execution_count": 0,
      "outputs": []
    },
    {
      "cell_type": "markdown",
      "metadata": {
        "id": "1lhQrzfPJ-pw",
        "colab_type": "text"
      },
      "source": [
        "Формирование матриц Y было сделано с помощью первого символа названия файла. Также для обучения нейросети Y_train должен иметь категориальный вид.\n"
      ]
    },
    {
      "cell_type": "code",
      "metadata": {
        "id": "_-eaBbmZJwOm",
        "colab_type": "code",
        "colab": {}
      },
      "source": [
        "Y_train = np.array([int(f[0]) for f in files_dir_train])\n",
        "Y_test = np.array([int(f[0]) for f in files_dir_test])\n",
        "Y_train_net = utils.to_categorical(Y_train,10)\n",
        "Y_test_net = utils.to_categorical(Y_test,10)"
      ],
      "execution_count": 0,
      "outputs": []
    },
    {
      "cell_type": "markdown",
      "metadata": {
        "id": "A1uFOQ1KKjMQ",
        "colab_type": "text"
      },
      "source": [
        "**Decision Tree**"
      ]
    },
    {
      "cell_type": "code",
      "metadata": {
        "id": "Z66kMRRhKs7M",
        "colab_type": "code",
        "outputId": "24bf85a9-2513-4072-cd72-ba5adcc474b1",
        "colab": {
          "base_uri": "https://localhost:8080/",
          "height": 121
        }
      },
      "source": [
        "model_tree = tree.DecisionTreeClassifier(min_samples_leaf = 3, max_depth = 10, random_state = 1)\n",
        "model_tree.fit(X_train,Y_train)"
      ],
      "execution_count": 0,
      "outputs": [
        {
          "output_type": "execute_result",
          "data": {
            "text/plain": [
              "DecisionTreeClassifier(class_weight=None, criterion='gini', max_depth=10,\n",
              "                       max_features=None, max_leaf_nodes=None,\n",
              "                       min_impurity_decrease=0.0, min_impurity_split=None,\n",
              "                       min_samples_leaf=3, min_samples_split=2,\n",
              "                       min_weight_fraction_leaf=0.0, presort=False,\n",
              "                       random_state=1, splitter='best')"
            ]
          },
          "metadata": {
            "tags": []
          },
          "execution_count": 177
        }
      ]
    },
    {
      "cell_type": "code",
      "metadata": {
        "id": "HGwaPrZuaFDq",
        "colab_type": "code",
        "outputId": "ebad0603-f213-4589-8b65-89c750368c03",
        "colab": {
          "base_uri": "https://localhost:8080/",
          "height": 34
        }
      },
      "source": [
        "predictions = model_tree.predict(X_train)\n",
        "accuracy_score(Y_train,predictions)"
      ],
      "execution_count": 0,
      "outputs": [
        {
          "output_type": "execute_result",
          "data": {
            "text/plain": [
              "0.9288888888888889"
            ]
          },
          "metadata": {
            "tags": []
          },
          "execution_count": 184
        }
      ]
    },
    {
      "cell_type": "code",
      "metadata": {
        "id": "xh-82kAKaueN",
        "colab_type": "code",
        "outputId": "4d732da9-821e-4998-d0cb-11921e7ecfe5",
        "colab": {
          "base_uri": "https://localhost:8080/",
          "height": 34
        }
      },
      "source": [
        "predictions_test = model_tree.predict(X_test)\n",
        "accuracy_score(Y_test,predictions_test)"
      ],
      "execution_count": 0,
      "outputs": [
        {
          "output_type": "execute_result",
          "data": {
            "text/plain": [
              "0.74"
            ]
          },
          "metadata": {
            "tags": []
          },
          "execution_count": 180
        }
      ]
    },
    {
      "cell_type": "markdown",
      "metadata": {
        "id": "YVU9Qnbygl6v",
        "colab_type": "text"
      },
      "source": [
        "**Logistic Regression**"
      ]
    },
    {
      "cell_type": "code",
      "metadata": {
        "id": "xu5dgFZ3gsdo",
        "colab_type": "code",
        "outputId": "32284dfc-1754-4b5f-842d-05b47f9f9908",
        "colab": {
          "base_uri": "https://localhost:8080/",
          "height": 158
        }
      },
      "source": [
        "model_log = linear_model.LogisticRegression(solver = \"lbfgs\", multi_class = \"multinomial\")\n",
        "model_log.fit(X_train,Y_train)"
      ],
      "execution_count": 0,
      "outputs": [
        {
          "output_type": "stream",
          "text": [
            "/usr/local/lib/python3.6/dist-packages/sklearn/linear_model/logistic.py:947: ConvergenceWarning: lbfgs failed to converge. Increase the number of iterations.\n",
            "  \"of iterations.\", ConvergenceWarning)\n"
          ],
          "name": "stderr"
        },
        {
          "output_type": "execute_result",
          "data": {
            "text/plain": [
              "LogisticRegression(C=1.0, class_weight=None, dual=False, fit_intercept=True,\n",
              "                   intercept_scaling=1, l1_ratio=None, max_iter=100,\n",
              "                   multi_class='multinomial', n_jobs=None, penalty='l2',\n",
              "                   random_state=None, solver='lbfgs', tol=0.0001, verbose=0,\n",
              "                   warm_start=False)"
            ]
          },
          "metadata": {
            "tags": []
          },
          "execution_count": 181
        }
      ]
    },
    {
      "cell_type": "code",
      "metadata": {
        "id": "YbjDZYfYhl8r",
        "colab_type": "code",
        "outputId": "5caf40e9-086b-4616-a4df-529cd6f60136",
        "colab": {
          "base_uri": "https://localhost:8080/",
          "height": 34
        }
      },
      "source": [
        "predictions_log = model_log.predict(X_train)\n",
        "accuracy_score(Y_train,predictions_log)"
      ],
      "execution_count": 0,
      "outputs": [
        {
          "output_type": "execute_result",
          "data": {
            "text/plain": [
              "1.0"
            ]
          },
          "metadata": {
            "tags": []
          },
          "execution_count": 182
        }
      ]
    },
    {
      "cell_type": "code",
      "metadata": {
        "id": "-ZoLVjFqohHw",
        "colab_type": "code",
        "outputId": "fd8e11ad-7136-4b81-c3ec-83a50f83a436",
        "colab": {
          "base_uri": "https://localhost:8080/",
          "height": 34
        }
      },
      "source": [
        "predictions_log_test = model_log.predict(X_test)\n",
        "accuracy_score(Y_test,predictions_log_test)"
      ],
      "execution_count": 0,
      "outputs": [
        {
          "output_type": "execute_result",
          "data": {
            "text/plain": [
              "0.975"
            ]
          },
          "metadata": {
            "tags": []
          },
          "execution_count": 183
        }
      ]
    },
    {
      "cell_type": "markdown",
      "metadata": {
        "id": "takSO3FZHf2c",
        "colab_type": "text"
      },
      "source": [
        "**Random forest**"
      ]
    },
    {
      "cell_type": "code",
      "metadata": {
        "id": "Hxt_fvuTHi3X",
        "colab_type": "code",
        "outputId": "a88e7029-63e1-4e14-89cb-482de377f4e0",
        "colab": {
          "base_uri": "https://localhost:8080/",
          "height": 138
        }
      },
      "source": [
        "model_forest = ensemble.RandomForestClassifier(min_samples_leaf = 1,max_depth = 50,n_estimators=140, random_state = 1)\n",
        "model_forest.fit(X_train,Y_train)"
      ],
      "execution_count": 0,
      "outputs": [
        {
          "output_type": "execute_result",
          "data": {
            "text/plain": [
              "RandomForestClassifier(bootstrap=True, class_weight=None, criterion='gini',\n",
              "                       max_depth=50, max_features='auto', max_leaf_nodes=None,\n",
              "                       min_impurity_decrease=0.0, min_impurity_split=None,\n",
              "                       min_samples_leaf=1, min_samples_split=2,\n",
              "                       min_weight_fraction_leaf=0.0, n_estimators=140,\n",
              "                       n_jobs=None, oob_score=False, random_state=1, verbose=0,\n",
              "                       warm_start=False)"
            ]
          },
          "metadata": {
            "tags": []
          },
          "execution_count": 200
        }
      ]
    },
    {
      "cell_type": "code",
      "metadata": {
        "id": "Suy2c1YlBsCW",
        "colab_type": "code",
        "outputId": "9b0f0acf-81fa-45a2-96c0-8d404f3da8a6",
        "colab": {
          "base_uri": "https://localhost:8080/",
          "height": 34
        }
      },
      "source": [
        "predictions_forest = model_forest.predict(X_train)\n",
        "accuracy_score(Y_train,predictions_forest)"
      ],
      "execution_count": 0,
      "outputs": [
        {
          "output_type": "execute_result",
          "data": {
            "text/plain": [
              "1.0"
            ]
          },
          "metadata": {
            "tags": []
          },
          "execution_count": 201
        }
      ]
    },
    {
      "cell_type": "code",
      "metadata": {
        "id": "LcJRJ_g-B0hi",
        "colab_type": "code",
        "outputId": "84c71c9f-63f2-4d91-bc47-d0091829e998",
        "colab": {
          "base_uri": "https://localhost:8080/",
          "height": 34
        }
      },
      "source": [
        "predictions_forest_test = model_forest.predict(X_test)\n",
        "accuracy_score(Y_test,predictions_forest_test)"
      ],
      "execution_count": 0,
      "outputs": [
        {
          "output_type": "execute_result",
          "data": {
            "text/plain": [
              "0.99"
            ]
          },
          "metadata": {
            "tags": []
          },
          "execution_count": 202
        }
      ]
    },
    {
      "cell_type": "markdown",
      "metadata": {
        "id": "WIF1EoMZX55O",
        "colab_type": "text"
      },
      "source": [
        "**Gradient Boosting**"
      ]
    },
    {
      "cell_type": "code",
      "metadata": {
        "id": "VXkyBod5Yej4",
        "colab_type": "code",
        "outputId": "4dc2cd0e-6c68-4c9c-95ed-200b95607624",
        "colab": {
          "base_uri": "https://localhost:8080/",
          "height": 190
        }
      },
      "source": [
        "model_boost = ensemble.GradientBoostingClassifier(min_samples_leaf = 3,max_depth = 120, n_estimators = 100, random_state = 1)\n",
        "model_boost.fit(X_train,Y_train)"
      ],
      "execution_count": 0,
      "outputs": [
        {
          "output_type": "execute_result",
          "data": {
            "text/plain": [
              "GradientBoostingClassifier(criterion='friedman_mse', init=None,\n",
              "                           learning_rate=0.1, loss='deviance', max_depth=120,\n",
              "                           max_features=None, max_leaf_nodes=None,\n",
              "                           min_impurity_decrease=0.0, min_impurity_split=None,\n",
              "                           min_samples_leaf=3, min_samples_split=2,\n",
              "                           min_weight_fraction_leaf=0.0, n_estimators=100,\n",
              "                           n_iter_no_change=None, presort='auto',\n",
              "                           random_state=1, subsample=1.0, tol=0.0001,\n",
              "                           validation_fraction=0.1, verbose=0,\n",
              "                           warm_start=False)"
            ]
          },
          "metadata": {
            "tags": []
          },
          "execution_count": 211
        }
      ]
    },
    {
      "cell_type": "code",
      "metadata": {
        "id": "D8mxqAWrYeZg",
        "colab_type": "code",
        "outputId": "3bd8e4dc-be06-4339-d22f-10f1f55a48b5",
        "colab": {
          "base_uri": "https://localhost:8080/",
          "height": 34
        }
      },
      "source": [
        "predictions_boost = model_boost.predict(X_train)\n",
        "accuracy_score(Y_train,predictions_boost)"
      ],
      "execution_count": 0,
      "outputs": [
        {
          "output_type": "execute_result",
          "data": {
            "text/plain": [
              "1.0"
            ]
          },
          "metadata": {
            "tags": []
          },
          "execution_count": 212
        }
      ]
    },
    {
      "cell_type": "code",
      "metadata": {
        "id": "tPXgr5KIYeL7",
        "colab_type": "code",
        "outputId": "e39fcc98-6edc-4fe0-daf2-4892d5309cf3",
        "colab": {
          "base_uri": "https://localhost:8080/",
          "height": 34
        }
      },
      "source": [
        "model_boost_test = model_boost.predict(X_test)\n",
        "accuracy_score(Y_test,model_boost_test)"
      ],
      "execution_count": 0,
      "outputs": [
        {
          "output_type": "execute_result",
          "data": {
            "text/plain": [
              "0.91"
            ]
          },
          "metadata": {
            "tags": []
          },
          "execution_count": 213
        }
      ]
    },
    {
      "cell_type": "markdown",
      "metadata": {
        "id": "7sjqDxAMn-I_",
        "colab_type": "text"
      },
      "source": [
        "**Tensorflow**"
      ]
    },
    {
      "cell_type": "code",
      "metadata": {
        "id": "57BvuIcnoB0R",
        "colab_type": "code",
        "colab": {}
      },
      "source": [
        "model = Sequential()\n",
        "\n",
        "model.add(Dense(800, input_dim=13*x_len, activation=\"relu\"))\n",
        "model.add(Dense(400, input_dim=200, activation=\"relu\"))\n",
        "model.add(Dense(200, input_dim=100, activation=\"relu\"))\n",
        "model.add(Dropout(0.2))\n",
        "model.add(Dense(100, input_dim=50, activation=\"relu\"))\n",
        "model.add(Dropout(0.4))\n",
        "model.add(Dense(10, activation = \"softmax\"))"
      ],
      "execution_count": 0,
      "outputs": []
    },
    {
      "cell_type": "code",
      "metadata": {
        "id": "ixwXXczRoBol",
        "colab_type": "code",
        "outputId": "6d893fca-bc3c-4f47-d0f8-fd728aa883bd",
        "colab": {
          "base_uri": "https://localhost:8080/",
          "height": 415
        }
      },
      "source": [
        "model.compile(loss=\"categorical_crossentropy\", optimizer=\"SGD\", metrics=[\"accuracy\"])\n",
        "\n",
        "print(model.summary())"
      ],
      "execution_count": 0,
      "outputs": [
        {
          "output_type": "stream",
          "text": [
            "Model: \"sequential_25\"\n",
            "_________________________________________________________________\n",
            "Layer (type)                 Output Shape              Param #   \n",
            "=================================================================\n",
            "dense_115 (Dense)            (None, 800)               396000    \n",
            "_________________________________________________________________\n",
            "dense_116 (Dense)            (None, 400)               320400    \n",
            "_________________________________________________________________\n",
            "dense_117 (Dense)            (None, 200)               80200     \n",
            "_________________________________________________________________\n",
            "dropout_39 (Dropout)         (None, 200)               0         \n",
            "_________________________________________________________________\n",
            "dense_118 (Dense)            (None, 100)               20100     \n",
            "_________________________________________________________________\n",
            "dropout_40 (Dropout)         (None, 100)               0         \n",
            "_________________________________________________________________\n",
            "dense_119 (Dense)            (None, 10)                1010      \n",
            "=================================================================\n",
            "Total params: 817,710\n",
            "Trainable params: 817,710\n",
            "Non-trainable params: 0\n",
            "_________________________________________________________________\n",
            "None\n"
          ],
          "name": "stdout"
        }
      ]
    },
    {
      "cell_type": "code",
      "metadata": {
        "id": "oQtARX3Tp_Bb",
        "colab_type": "code",
        "outputId": "a90d5ce1-3903-49cd-d695-95d37e6be9fd",
        "colab": {
          "base_uri": "https://localhost:8080/",
          "height": 881
        }
      },
      "source": [
        "model.fit(X_train, Y_train_net, \n",
        "          batch_size=100, \n",
        "          epochs=24,\n",
        "          validation_split=0.01,\n",
        "          verbose=1)"
      ],
      "execution_count": 0,
      "outputs": [
        {
          "output_type": "stream",
          "text": [
            "Train on 1782 samples, validate on 18 samples\n",
            "Epoch 1/24\n",
            "1782/1782 [==============================] - 1s 412us/sample - loss: 3.6834 - acc: 0.4119 - val_loss: 0.8573 - val_acc: 0.6111\n",
            "Epoch 2/24\n",
            "1782/1782 [==============================] - 0s 56us/sample - loss: 0.7577 - acc: 0.7430 - val_loss: 0.5292 - val_acc: 0.7778\n",
            "Epoch 3/24\n",
            "1782/1782 [==============================] - 0s 53us/sample - loss: 0.4630 - acc: 0.8395 - val_loss: 0.1342 - val_acc: 0.9444\n",
            "Epoch 4/24\n",
            "1782/1782 [==============================] - 0s 56us/sample - loss: 0.3684 - acc: 0.8799 - val_loss: 0.1972 - val_acc: 0.9444\n",
            "Epoch 5/24\n",
            "1782/1782 [==============================] - 0s 54us/sample - loss: 0.2951 - acc: 0.9057 - val_loss: 0.0618 - val_acc: 0.9444\n",
            "Epoch 6/24\n",
            "1782/1782 [==============================] - 0s 54us/sample - loss: 0.2327 - acc: 0.9231 - val_loss: 0.0789 - val_acc: 0.9444\n",
            "Epoch 7/24\n",
            "1782/1782 [==============================] - 0s 56us/sample - loss: 0.1721 - acc: 0.9428 - val_loss: 0.0883 - val_acc: 1.0000\n",
            "Epoch 8/24\n",
            "1782/1782 [==============================] - 0s 54us/sample - loss: 0.1557 - acc: 0.9512 - val_loss: 0.0372 - val_acc: 1.0000\n",
            "Epoch 9/24\n",
            "1782/1782 [==============================] - 0s 54us/sample - loss: 0.1411 - acc: 0.9551 - val_loss: 0.0155 - val_acc: 1.0000\n",
            "Epoch 10/24\n",
            "1782/1782 [==============================] - 0s 56us/sample - loss: 0.1041 - acc: 0.9646 - val_loss: 0.0403 - val_acc: 1.0000\n",
            "Epoch 11/24\n",
            "1782/1782 [==============================] - 0s 57us/sample - loss: 0.1110 - acc: 0.9686 - val_loss: 0.0157 - val_acc: 1.0000\n",
            "Epoch 12/24\n",
            "1782/1782 [==============================] - 0s 56us/sample - loss: 0.0954 - acc: 0.9680 - val_loss: 0.0148 - val_acc: 1.0000\n",
            "Epoch 13/24\n",
            "1782/1782 [==============================] - 0s 57us/sample - loss: 0.0874 - acc: 0.9714 - val_loss: 0.0113 - val_acc: 1.0000\n",
            "Epoch 14/24\n",
            "1782/1782 [==============================] - 0s 57us/sample - loss: 0.0783 - acc: 0.9725 - val_loss: 0.0156 - val_acc: 1.0000\n",
            "Epoch 15/24\n",
            "1782/1782 [==============================] - 0s 54us/sample - loss: 0.0694 - acc: 0.9742 - val_loss: 0.0020 - val_acc: 1.0000\n",
            "Epoch 16/24\n",
            "1782/1782 [==============================] - 0s 55us/sample - loss: 0.0634 - acc: 0.9798 - val_loss: 0.0033 - val_acc: 1.0000\n",
            "Epoch 17/24\n",
            "1782/1782 [==============================] - 0s 54us/sample - loss: 0.0590 - acc: 0.9809 - val_loss: 0.0026 - val_acc: 1.0000\n",
            "Epoch 18/24\n",
            "1782/1782 [==============================] - 0s 57us/sample - loss: 0.0467 - acc: 0.9848 - val_loss: 0.0113 - val_acc: 1.0000\n",
            "Epoch 19/24\n",
            "1782/1782 [==============================] - 0s 59us/sample - loss: 0.0483 - acc: 0.9854 - val_loss: 0.0016 - val_acc: 1.0000\n",
            "Epoch 20/24\n",
            "1782/1782 [==============================] - 0s 57us/sample - loss: 0.0456 - acc: 0.9854 - val_loss: 0.0054 - val_acc: 1.0000\n",
            "Epoch 21/24\n",
            "1782/1782 [==============================] - 0s 54us/sample - loss: 0.0453 - acc: 0.9860 - val_loss: 0.0034 - val_acc: 1.0000\n",
            "Epoch 22/24\n",
            "1782/1782 [==============================] - 0s 56us/sample - loss: 0.0498 - acc: 0.9848 - val_loss: 0.0044 - val_acc: 1.0000\n",
            "Epoch 23/24\n",
            "1782/1782 [==============================] - 0s 53us/sample - loss: 0.0390 - acc: 0.9882 - val_loss: 0.0078 - val_acc: 1.0000\n",
            "Epoch 24/24\n",
            "1782/1782 [==============================] - 0s 59us/sample - loss: 0.0310 - acc: 0.9927 - val_loss: 0.0084 - val_acc: 1.0000\n"
          ],
          "name": "stdout"
        },
        {
          "output_type": "execute_result",
          "data": {
            "text/plain": [
              "<tensorflow.python.keras.callbacks.History at 0x7f5932ca7dd8>"
            ]
          },
          "metadata": {
            "tags": []
          },
          "execution_count": 318
        }
      ]
    },
    {
      "cell_type": "code",
      "metadata": {
        "id": "kLV6JqnHwCSI",
        "colab_type": "code",
        "outputId": "01b33198-5f10-4000-8b6c-41033bbbf67b",
        "colab": {
          "base_uri": "https://localhost:8080/",
          "height": 52
        }
      },
      "source": [
        "model.evaluate(X_test,Y_test_net,verbose = 1)"
      ],
      "execution_count": 0,
      "outputs": [
        {
          "output_type": "stream",
          "text": [
            "200/200 [==============================] - 0s 142us/sample - loss: 0.0628 - acc: 0.9800\n"
          ],
          "name": "stdout"
        },
        {
          "output_type": "execute_result",
          "data": {
            "text/plain": [
              "[0.06277705874294043, 0.98]"
            ]
          },
          "metadata": {
            "tags": []
          },
          "execution_count": 319
        }
      ]
    },
    {
      "cell_type": "code",
      "metadata": {
        "id": "Ah1gsaW1OxNC",
        "colab_type": "code",
        "colab": {}
      },
      "source": [
        "a = np.array([np.random.normal() for i in range(10)])"
      ],
      "execution_count": 0,
      "outputs": []
    },
    {
      "cell_type": "code",
      "metadata": {
        "id": "CJFKoJ_yWJjD",
        "colab_type": "code",
        "outputId": "075eb533-497f-4782-93a0-d13cebca33ab",
        "colab": {
          "base_uri": "https://localhost:8080/",
          "height": 190
        }
      },
      "source": [
        "for i, x in enumerate(a):\n",
        "  print(f'{i}:{x}')"
      ],
      "execution_count": 0,
      "outputs": [
        {
          "output_type": "stream",
          "text": [
            "0:-0.8477918217587281\n",
            "1:0.6290351578205852\n",
            "2:-0.012270458753462912\n",
            "3:1.2770388577297536\n",
            "4:1.3848277068509496\n",
            "5:-0.9960808815651125\n",
            "6:0.8448780402612608\n",
            "7:-0.3941531318690586\n",
            "8:-0.7275935458080751\n",
            "9:0.14202880014032837\n"
          ],
          "name": "stdout"
        }
      ]
    },
    {
      "cell_type": "code",
      "metadata": {
        "id": "yDRC2S0YWaLX",
        "colab_type": "code",
        "colab": {}
      },
      "source": [
        ""
      ],
      "execution_count": 0,
      "outputs": []
    }
  ]
}